{
  "nbformat": 4,
  "nbformat_minor": 0,
  "metadata": {
    "colab": {
      "provenance": []
    },
    "kernelspec": {
      "display_name": "Python 3",
      "name": "python3"
    },
    "language_info": {
      "name": "python"
    }
  },
  "cells": [
    {
      "cell_type": "markdown",
      "metadata": {
        "id": "GpVdA_kWnsh9"
      },
      "source": [
        "# Завдання для самостійного розв'язання:\n",
        "1 завдання = 1 бал\n",
        "\\* - ще один бал"
      ]
    },
    {
      "cell_type": "markdown",
      "metadata": {
        "id": "Cp24nhAqn1pS"
      },
      "source": [
        "Завдання 1:\n",
        "Попросити користувача ввести два числа в межах від 0 до 100\n",
        "\n",
        "Якщо хоч одне з введених чисел не відповідає вимогам - вивести відповідне повідомлення.\n",
        "\n",
        "Якщо все гаразд, то:\n",
        "1. Вивести повідомлення \"перше число = Х1, друге число = X2\" (замість X1 та X2 - реальні числа, які ввів користувач)\n",
        "2. повідомити користувача - яке число більше, перше чи друге.\n",
        "В кінці коду в будь якому разі подякувати за введення чисел."
      ]
    },
    {
      "cell_type": "code",
      "metadata": {
        "id": "D6SrGAID2rIb"
      },
      "source": [
        "#Місце для рішення Завдання 1\n",
        " # Виводимо введені числа\n",
        "    print(\"Перше число = {0}, друге число = {1}\".format(num1, num2))\n",
        "\n",
        "    # Визначаємо, яке число більше\n",
        "    if num1 > num2:\n",
        "        print(\"Перше число більше за друге число.\")\n",
        "    elif num2 > num1:\n",
        "        print(\"Друге число більше за перше число.\")\n",
        "    else:\n",
        "        print(\"Перше і друге числа рівні.\")\n",
        "\n",
        "# Подякувати користувача за введення чисел\n",
        "print(\"Дякую за введення чисел.\")"
      ],
      "execution_count": null,
      "outputs": []
    },
    {
      "cell_type": "markdown",
      "metadata": {
        "id": "-_-652v6phxf"
      },
      "source": [
        "Завдання 2: Отримати з текстового рядка \"ппкррооомфгпірілаламякіттсоитркк аа \" кілька слів за допомогою слайсинга."
      ]
    },
    {
      "cell_type": "code",
      "metadata": {
        "colab": {
          "base_uri": "https://localhost:8080/"
        },
        "outputId": "33ce4d8d-6cff-4d2c-f9e1-e6f282563c75",
        "id": "htw_3dVW3piy"
      },
      "source": [
        "#Місце для рішення Завдання 2\n",
        "# Визначаємо текстовий рядок\n",
        "text = \"ппкррооомфгпірілаламякіттсоитркк аа\"\n",
        "\n",
        "# Отримуємо перше слово (від початку до першого пробілу)\n",
        "first_word = text[:19]\n",
        "\n",
        "# Отримуємо друге слово (від 20-го символу до 27-го символу)\n",
        "second_word = text[20:28]\n",
        "\n",
        "# Виводимо результат\n",
        "print(\"Перше слово:\", first_word)\n",
        "print(\"Друге слово:\", second_word)"
      ],
      "execution_count": null,
      "outputs": [
        {
          "output_type": "stream",
          "name": "stdout",
          "text": [
            "кромгііааяітот\n",
            "кромгііааяітот\n",
            "кромгііааяітот\n"
          ]
        }
      ]
    },
    {
      "cell_type": "markdown",
      "metadata": {
        "id": "3j2Dfi-Mq2sp"
      },
      "source": [
        "Завдання 3. Попросити користувача ввести рядок тексту українською мовою.\n",
        "\n",
        "Якщо введений рядок закінчується на голосну літеру - вивести введене слово без останньої літери. Інакше - виввести все слово."
      ]
    },
    {
      "cell_type": "code",
      "metadata": {
        "id": "tRrCUg9zrZaz"
      },
      "source": [
        "#Місце для рішення Завдання 3\n",
        "# Запитуємо користувача ввести рядок тексту\n",
        "text = input(\"Введіть рядок тексту: \")\n",
        "\n",
        "# Отримуємо останню літеру\n",
        "last_letter = text[-1]\n",
        "\n",
        "# Перевіряємо, чи остання літера є голосною\n",
        "if last_letter in \"аеиіоуюя\":\n",
        "    # Якщо остання літера є голосною, то виводимо текст без останньої літери\n",
        "    print(\"Введене слово без останньої літери:\", text[:-1])\n",
        "else:\n",
        "    # Якщо остання літера не є голосною, то виводимо весь текст\n",
        "    print(\"Введене слово:\", text)"
      ],
      "execution_count": null,
      "outputs": []
    },
    {
      "cell_type": "markdown",
      "metadata": {
        "id": "4o5FmN5drdg4"
      },
      "source": [
        "Завдання 4: зв'язати змінну slovo з рядком \"рядок тексту українською мовою\" за допомогою слайсингу отримати та вивести друге слово з рядка."
      ]
    },
    {
      "cell_type": "code",
      "metadata": {
        "id": "UEpVD1GrsEr1"
      },
      "source": [
        "#Місце для рішення Завдання 4\n",
        "# Зв'язуємо змінну slovo з рядком \"рядок тексту українською мовою\"\n",
        "slovo = \"рядок тексту українською мовою\"\n",
        "\n",
        "# Отримуємо список слів з рядка, розділеного пробілами\n",
        "slowa = slovo.split()\n",
        "\n",
        "# Отримуємо друге слово зі списку за допомогою індексування\n",
        "druhe_slovo = slowa[1]\n",
        "\n",
        "# Виводимо друге слово\n",
        "print(\"Друге слово зі рядка:\", druhe_slovo)"
      ],
      "execution_count": null,
      "outputs": []
    },
    {
      "cell_type": "markdown",
      "metadata": {
        "id": "era5d3fksH_R"
      },
      "source": [
        "Завдання 5: Попросити користувача ввести текстовий рядок.\n",
        "\n",
        "Якщо у тексті присутні числа - повідомити користувача про це.\n",
        "\n",
        "\\* ускладнений варіант - в повідомленні перелічити всі знайдені в слові числа"
      ]
    },
    {
      "cell_type": "code",
      "metadata": {
        "id": "4zgtPJFVsxRu"
      },
      "source": [
        "#Місце для рішення Завдання 5\n",
        "# Просимо користувача ввести текстовий рядок\n",
        "text = input(\"Введіть текст: \")\n",
        "\n",
        "# Ініціалізуємо список для зберігання чисел\n",
        "chysla = []\n",
        "\n",
        "# Ітеруємося по кожному символу у рядку\n",
        "for sym in text:\n",
        "    # Перевіряємо, чи є поточний символ цифрою\n",
        "    if sym.isdigit():\n",
        "        # Якщо так, то додаємо його до списку чисел\n",
        "        chysla.append(sym)\n",
        "\n",
        "# Якщо список чисел не порожній, виводимо повідомлення\n",
        "if chysla:\n",
        "    print(\"У введеному тексті є числа: \", \" \".join(chysla))\n",
        "else:\n",
        "    print(\"У введеному тексті немає чисел\")"
      ],
      "execution_count": null,
      "outputs": []
    },
    {
      "cell_type": "markdown",
      "metadata": {
        "id": "ZOE-DxUKs0rA"
      },
      "source": [
        "Завдання 6: Попросити користувача ввести 2 числа - ділене та дільник.\n",
        "\n",
        "Якщо користувач ввів дільник, який дорівнює 0, то вивести повідомлення про неможливість ділення на 0.\n",
        "\n",
        "Інакше повідомити користувачу результати ділення."
      ]
    },
    {
      "cell_type": "code",
      "metadata": {
        "id": "ACxXpyj2tixq"
      },
      "source": [
        "#Місце для рішення Завдання 6\n"
      ],
      "execution_count": null,
      "outputs": []
    },
    {
      "cell_type": "markdown",
      "metadata": {
        "id": "8ie0sTnYt1SH"
      },
      "source": [
        "Завдання 7: Попросити користувача ввести два числа (x та y).\n",
        "\n",
        "*  Якщо x та y позитивні - отже вони потрапляють до квадранту 1\n",
        "*  Якщо x від'ємний, а y позитивний - отже вони потрапляють до квадранту 2\n",
        "*  Якщо x та y від'ємні - отже вони потрапляють до квадранту 3\n",
        "*  Якщо x позитивний, а y від'ємний - отже вони потрапляють до квадранту 4\n",
        "\n",
        "Вивеси повідомлення типу \"Координати (х,у) потрапляють до квадранту z\", де x та y - те, що ввів користувач, а z - квадрант визначений вами у коді програми.\n"
      ]
    },
    {
      "cell_type": "code",
      "metadata": {
        "id": "CUV0RxUmv0FN"
      },
      "source": [
        "#Місце для рішення Завдання 7\n",
        "x = float(input(\"Введіть значення x: \"))\n",
        "y = float(input(\"Введіть значення y: \"))\n",
        "\n",
        "if x > 0 and y > 0:\n",
        "    quadrant = 1\n",
        "elif x < 0 and y > 0:\n",
        "    quadrant = 2\n",
        "elif x < 0 and y < 0:\n",
        "    quadrant = 3\n",
        "elif x > 0 and y < 0:\n",
        "    quadrant = 4\n",
        "else:\n",
        "    quadrant = None\n",
        "    \n",
        "if quadrant:\n",
        "    print(f\"Координати ({x},{y}) потрапляють до квадранту {quadrant}\")\n",
        "else:\n",
        "    print(\"Введені координати знаходяться на осі\")"
      ],
      "execution_count": null,
      "outputs": []
    },
    {
      "cell_type": "markdown",
      "metadata": {
        "id": "UeMd_QoUxDsF"
      },
      "source": [
        "Завдання 8: Попросіть користувача ввести числа a, b, c.\n",
        "\n",
        "Виведіть результат обчислення виразу, який зображений нижче на основі даних введених користувачем.\n",
        "\n",
        "\\* - якщо дані неприпустимі - вивести повідомлення та не проводити обчислень\n",
        "\n",
        "![formula.jpg](data:image/jpeg;base64,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)"
      ]
    },
    {
      "cell_type": "code",
      "metadata": {
        "id": "fFPMBEwwx2vq"
      },
      "source": [
        "#Місце для рішення Завдання 8\n",
        "# Зчитуємо вхідні дані від користувача\n",
        "a = float(input(\"Введіть значення a: \"))\n",
        "b = float(input(\"Введіть значення b: \"))\n",
        "c = float(input(\"Введіть значення c: \"))\n",
        "\n",
        "# Перевіряємо, чи дані припустимі\n",
        "if a == 0 or c < 0:\n",
        "    print(\"Неприпустимі дані\")\n",
        "else:\n",
        "    # Обчислюємо вираз\n",
        "    result = (a ** 2 + b ** 2) / (math.sqrt(c) - a)\n",
        "    \n",
        "    # Виводимо результат\n",
        "    print(\"Результат обчислення виразу: \", result)"
      ],
      "execution_count": null,
      "outputs": []
    }
  ]
}